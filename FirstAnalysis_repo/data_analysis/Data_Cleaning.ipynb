{
 "cells": [
  {
   "cell_type": "markdown",
   "id": "00df4ad1",
   "metadata": {},
   "source": [
    "# Importing libraries"
   ]
  },
  {
   "cell_type": "code",
   "execution_count": 2,
   "id": "5bb9a787",
   "metadata": {},
   "outputs": [],
   "source": [
    "import pandas as pd\n",
    "import numpy as np\n",
    "import matplotlib.pyplot as plt\n",
    "import seaborn as sns"
   ]
  },
  {
   "cell_type": "markdown",
   "id": "165da0d4",
   "metadata": {},
   "source": [
    "# Data cleaning"
   ]
  },
  {
   "cell_type": "code",
   "execution_count": 3,
   "id": "bd708e57",
   "metadata": {},
   "outputs": [],
   "source": [
    "def merged_csv_file(csv1,csv2):\n",
    "    df1 = pd.read_csv(csv1)\n",
    "    df2 = pd.read_csv(csv2)\n",
    "    df = pd.merge(df1, df2,  how='left', left_on=['y/delta','y^+','Re_tau'], right_on = ['y/delta','y^+','Re_tau'])\n",
    "    #df = df.drop(['y/delta','U','y^+','W','P','Re_tau'], axis=1)\n",
    "    return df"
   ]
  },
  {
   "cell_type": "code",
   "execution_count": 4,
   "id": "67ac1bf6",
   "metadata": {},
   "outputs": [
    {
     "data": {
      "text/html": [
       "<div>\n",
       "<style scoped>\n",
       "    .dataframe tbody tr th:only-of-type {\n",
       "        vertical-align: middle;\n",
       "    }\n",
       "\n",
       "    .dataframe tbody tr th {\n",
       "        vertical-align: top;\n",
       "    }\n",
       "\n",
       "    .dataframe thead th {\n",
       "        text-align: right;\n",
       "    }\n",
       "</style>\n",
       "<table border=\"1\" class=\"dataframe\">\n",
       "  <thead>\n",
       "    <tr style=\"text-align: right;\">\n",
       "      <th></th>\n",
       "      <th>y/delta</th>\n",
       "      <th>y^+</th>\n",
       "      <th>U</th>\n",
       "      <th>dU/dy</th>\n",
       "      <th>W</th>\n",
       "      <th>P</th>\n",
       "      <th>Re_tau</th>\n",
       "      <th>u'u'</th>\n",
       "      <th>v'v'</th>\n",
       "      <th>w'w'</th>\n",
       "      <th>u'v'</th>\n",
       "      <th>u'w'</th>\n",
       "      <th>v'w'</th>\n",
       "      <th>k</th>\n",
       "    </tr>\n",
       "  </thead>\n",
       "  <tbody>\n",
       "    <tr>\n",
       "      <th>0</th>\n",
       "      <td>0.000000</td>\n",
       "      <td>0.000000</td>\n",
       "      <td>0.000000</td>\n",
       "      <td>1.000000</td>\n",
       "      <td>0.000000</td>\n",
       "      <td>0.000000e+00</td>\n",
       "      <td>5200</td>\n",
       "      <td>4.176503e-36</td>\n",
       "      <td>0.000000e+00</td>\n",
       "      <td>-4.685007e-10</td>\n",
       "      <td>0.000000e+00</td>\n",
       "      <td>-6.964740e-40</td>\n",
       "      <td>0.000000e+00</td>\n",
       "      <td>-2.342503e-10</td>\n",
       "    </tr>\n",
       "    <tr>\n",
       "      <th>1</th>\n",
       "      <td>0.000014</td>\n",
       "      <td>0.071102</td>\n",
       "      <td>0.071102</td>\n",
       "      <td>0.999986</td>\n",
       "      <td>-0.000011</td>\n",
       "      <td>-4.717272e-09</td>\n",
       "      <td>5200</td>\n",
       "      <td>1.005730e-03</td>\n",
       "      <td>4.711429e-09</td>\n",
       "      <td>4.434640e-04</td>\n",
       "      <td>-3.980482e-07</td>\n",
       "      <td>-8.647142e-08</td>\n",
       "      <td>6.027252e-11</td>\n",
       "      <td>7.245992e-04</td>\n",
       "    </tr>\n",
       "    <tr>\n",
       "      <th>2</th>\n",
       "      <td>0.000042</td>\n",
       "      <td>0.216250</td>\n",
       "      <td>0.216244</td>\n",
       "      <td>0.999947</td>\n",
       "      <td>-0.000034</td>\n",
       "      <td>-3.851045e-07</td>\n",
       "      <td>5200</td>\n",
       "      <td>9.271135e-03</td>\n",
       "      <td>3.846287e-07</td>\n",
       "      <td>3.959369e-03</td>\n",
       "      <td>-1.137182e-05</td>\n",
       "      <td>-8.119895e-07</td>\n",
       "      <td>1.722111e-09</td>\n",
       "      <td>6.615444e-03</td>\n",
       "    </tr>\n",
       "    <tr>\n",
       "      <th>3</th>\n",
       "      <td>0.000085</td>\n",
       "      <td>0.438384</td>\n",
       "      <td>0.438355</td>\n",
       "      <td>0.999819</td>\n",
       "      <td>-0.000069</td>\n",
       "      <td>-6.055743e-06</td>\n",
       "      <td>5200</td>\n",
       "      <td>3.792464e-02</td>\n",
       "      <td>6.048292e-06</td>\n",
       "      <td>1.542633e-02</td>\n",
       "      <td>-9.679785e-05</td>\n",
       "      <td>-3.408324e-06</td>\n",
       "      <td>1.466385e-08</td>\n",
       "      <td>2.667851e-02</td>\n",
       "    </tr>\n",
       "    <tr>\n",
       "      <th>4</th>\n",
       "      <td>0.000143</td>\n",
       "      <td>0.740447</td>\n",
       "      <td>0.740306</td>\n",
       "      <td>0.999379</td>\n",
       "      <td>-0.000117</td>\n",
       "      <td>-4.477271e-05</td>\n",
       "      <td>5200</td>\n",
       "      <td>1.075992e-01</td>\n",
       "      <td>4.471796e-05</td>\n",
       "      <td>4.099240e-02</td>\n",
       "      <td>-4.781457e-04</td>\n",
       "      <td>-9.973361e-06</td>\n",
       "      <td>7.246230e-08</td>\n",
       "      <td>7.431814e-02</td>\n",
       "    </tr>\n",
       "    <tr>\n",
       "      <th>...</th>\n",
       "      <td>...</td>\n",
       "      <td>...</td>\n",
       "      <td>...</td>\n",
       "      <td>...</td>\n",
       "      <td>...</td>\n",
       "      <td>...</td>\n",
       "      <td>...</td>\n",
       "      <td>...</td>\n",
       "      <td>...</td>\n",
       "      <td>...</td>\n",
       "      <td>...</td>\n",
       "      <td>...</td>\n",
       "      <td>...</td>\n",
       "      <td>...</td>\n",
       "    </tr>\n",
       "    <tr>\n",
       "      <th>1691</th>\n",
       "      <td>0.924453</td>\n",
       "      <td>168.332085</td>\n",
       "      <td>18.229457</td>\n",
       "      <td>0.005679</td>\n",
       "      <td>-0.006407</td>\n",
       "      <td>-3.840753e-01</td>\n",
       "      <td>180</td>\n",
       "      <td>6.710482e-01</td>\n",
       "      <td>3.840753e-01</td>\n",
       "      <td>3.923507e-01</td>\n",
       "      <td>-6.992134e-02</td>\n",
       "      <td>1.987897e-03</td>\n",
       "      <td>-1.148241e-04</td>\n",
       "      <td>7.237371e-01</td>\n",
       "    </tr>\n",
       "    <tr>\n",
       "      <th>1692</th>\n",
       "      <td>0.941219</td>\n",
       "      <td>171.385008</td>\n",
       "      <td>18.244917</td>\n",
       "      <td>0.004445</td>\n",
       "      <td>-0.006349</td>\n",
       "      <td>-3.819697e-01</td>\n",
       "      <td>180</td>\n",
       "      <td>6.573929e-01</td>\n",
       "      <td>3.819697e-01</td>\n",
       "      <td>3.873618e-01</td>\n",
       "      <td>-5.435220e-02</td>\n",
       "      <td>1.855609e-03</td>\n",
       "      <td>-9.247177e-05</td>\n",
       "      <td>7.133622e-01</td>\n",
       "    </tr>\n",
       "    <tr>\n",
       "      <th>1693</th>\n",
       "      <td>0.958002</td>\n",
       "      <td>174.440956</td>\n",
       "      <td>18.256587</td>\n",
       "      <td>0.003189</td>\n",
       "      <td>-0.006322</td>\n",
       "      <td>-3.803884e-01</td>\n",
       "      <td>180</td>\n",
       "      <td>6.469951e-01</td>\n",
       "      <td>3.803884e-01</td>\n",
       "      <td>3.836718e-01</td>\n",
       "      <td>-3.880605e-02</td>\n",
       "      <td>1.725743e-03</td>\n",
       "      <td>-7.086049e-05</td>\n",
       "      <td>7.055277e-01</td>\n",
       "    </tr>\n",
       "    <tr>\n",
       "      <th>1694</th>\n",
       "      <td>0.974796</td>\n",
       "      <td>177.499065</td>\n",
       "      <td>18.264396</td>\n",
       "      <td>0.001917</td>\n",
       "      <td>-0.006324</td>\n",
       "      <td>-3.793335e-01</td>\n",
       "      <td>180</td>\n",
       "      <td>6.400011e-01</td>\n",
       "      <td>3.793335e-01</td>\n",
       "      <td>3.812476e-01</td>\n",
       "      <td>-2.327609e-02</td>\n",
       "      <td>1.628870e-03</td>\n",
       "      <td>-4.552829e-05</td>\n",
       "      <td>7.002911e-01</td>\n",
       "    </tr>\n",
       "    <tr>\n",
       "      <th>1695</th>\n",
       "      <td>0.991598</td>\n",
       "      <td>180.558472</td>\n",
       "      <td>18.268308</td>\n",
       "      <td>0.000640</td>\n",
       "      <td>-0.006333</td>\n",
       "      <td>-3.788063e-01</td>\n",
       "      <td>180</td>\n",
       "      <td>6.364999e-01</td>\n",
       "      <td>3.788063e-01</td>\n",
       "      <td>3.800445e-01</td>\n",
       "      <td>-7.757293e-03</td>\n",
       "      <td>1.578922e-03</td>\n",
       "      <td>-1.580629e-05</td>\n",
       "      <td>6.976753e-01</td>\n",
       "    </tr>\n",
       "  </tbody>\n",
       "</table>\n",
       "<p>1696 rows × 14 columns</p>\n",
       "</div>"
      ],
      "text/plain": [
       "       y/delta         y^+          U     dU/dy         W             P  \\\n",
       "0     0.000000    0.000000   0.000000  1.000000  0.000000  0.000000e+00   \n",
       "1     0.000014    0.071102   0.071102  0.999986 -0.000011 -4.717272e-09   \n",
       "2     0.000042    0.216250   0.216244  0.999947 -0.000034 -3.851045e-07   \n",
       "3     0.000085    0.438384   0.438355  0.999819 -0.000069 -6.055743e-06   \n",
       "4     0.000143    0.740447   0.740306  0.999379 -0.000117 -4.477271e-05   \n",
       "...        ...         ...        ...       ...       ...           ...   \n",
       "1691  0.924453  168.332085  18.229457  0.005679 -0.006407 -3.840753e-01   \n",
       "1692  0.941219  171.385008  18.244917  0.004445 -0.006349 -3.819697e-01   \n",
       "1693  0.958002  174.440956  18.256587  0.003189 -0.006322 -3.803884e-01   \n",
       "1694  0.974796  177.499065  18.264396  0.001917 -0.006324 -3.793335e-01   \n",
       "1695  0.991598  180.558472  18.268308  0.000640 -0.006333 -3.788063e-01   \n",
       "\n",
       "      Re_tau          u'u'          v'v'          w'w'          u'v'  \\\n",
       "0       5200  4.176503e-36  0.000000e+00 -4.685007e-10  0.000000e+00   \n",
       "1       5200  1.005730e-03  4.711429e-09  4.434640e-04 -3.980482e-07   \n",
       "2       5200  9.271135e-03  3.846287e-07  3.959369e-03 -1.137182e-05   \n",
       "3       5200  3.792464e-02  6.048292e-06  1.542633e-02 -9.679785e-05   \n",
       "4       5200  1.075992e-01  4.471796e-05  4.099240e-02 -4.781457e-04   \n",
       "...      ...           ...           ...           ...           ...   \n",
       "1691     180  6.710482e-01  3.840753e-01  3.923507e-01 -6.992134e-02   \n",
       "1692     180  6.573929e-01  3.819697e-01  3.873618e-01 -5.435220e-02   \n",
       "1693     180  6.469951e-01  3.803884e-01  3.836718e-01 -3.880605e-02   \n",
       "1694     180  6.400011e-01  3.793335e-01  3.812476e-01 -2.327609e-02   \n",
       "1695     180  6.364999e-01  3.788063e-01  3.800445e-01 -7.757293e-03   \n",
       "\n",
       "              u'w'          v'w'             k  \n",
       "0    -6.964740e-40  0.000000e+00 -2.342503e-10  \n",
       "1    -8.647142e-08  6.027252e-11  7.245992e-04  \n",
       "2    -8.119895e-07  1.722111e-09  6.615444e-03  \n",
       "3    -3.408324e-06  1.466385e-08  2.667851e-02  \n",
       "4    -9.973361e-06  7.246230e-08  7.431814e-02  \n",
       "...            ...           ...           ...  \n",
       "1691  1.987897e-03 -1.148241e-04  7.237371e-01  \n",
       "1692  1.855609e-03 -9.247177e-05  7.133622e-01  \n",
       "1693  1.725743e-03 -7.086049e-05  7.055277e-01  \n",
       "1694  1.628870e-03 -4.552829e-05  7.002911e-01  \n",
       "1695  1.578922e-03 -1.580629e-05  6.976753e-01  \n",
       "\n",
       "[1696 rows x 14 columns]"
      ]
     },
     "execution_count": 4,
     "metadata": {},
     "output_type": "execute_result"
    }
   ],
   "source": [
    "df = merged_csv_file(\"mean_combined.csv\",\"vel_fluc_combined.csv\")\n",
    "df"
   ]
  },
  {
   "cell_type": "code",
   "execution_count": 5,
   "id": "c8186baf",
   "metadata": {
    "scrolled": true
   },
   "outputs": [
    {
     "name": "stdout",
     "output_type": "stream",
     "text": [
      "<class 'pandas.core.frame.DataFrame'>\n",
      "Int64Index: 1696 entries, 0 to 1695\n",
      "Data columns (total 14 columns):\n",
      " #   Column   Non-Null Count  Dtype  \n",
      "---  ------   --------------  -----  \n",
      " 0   y/delta  1696 non-null   float64\n",
      " 1   y^+      1696 non-null   float64\n",
      " 2   U        1696 non-null   float64\n",
      " 3   dU/dy    1696 non-null   float64\n",
      " 4   W        1696 non-null   float64\n",
      " 5   P        1696 non-null   float64\n",
      " 6   Re_tau   1696 non-null   int64  \n",
      " 7   u'u'     1696 non-null   float64\n",
      " 8   v'v'     1696 non-null   float64\n",
      " 9   w'w'     1696 non-null   float64\n",
      " 10  u'v'     1696 non-null   float64\n",
      " 11  u'w'     1696 non-null   float64\n",
      " 12  v'w'     1696 non-null   float64\n",
      " 13  k        1696 non-null   float64\n",
      "dtypes: float64(13), int64(1)\n",
      "memory usage: 198.8 KB\n"
     ]
    }
   ],
   "source": [
    "df.info()"
   ]
  },
  {
   "cell_type": "markdown",
   "id": "09a6a5e6",
   "metadata": {},
   "source": [
    "## Identify outliers for each variable"
   ]
  },
  {
   "cell_type": "code",
   "execution_count": 6,
   "id": "de6c2e53",
   "metadata": {
    "scrolled": true
   },
   "outputs": [
    {
     "data": {
      "image/png": "[encoded data removed]",
      "text/plain": [
       "<Figure size 432x288 with 1 Axes>"
      ]
     },
     "metadata": {
      "needs_background": "light"
     },
     "output_type": "display_data"
    },
    {
     "data": {
      "image/png": "[encoded data removed]",
      "text/plain": [
       "<Figure size 432x288 with 1 Axes>"
      ]
     },
     "metadata": {
      "needs_background": "light"
     },
     "output_type": "display_data"
    },
    {
     "data": {
      "image/png": "[encoded data removed]",
      "text/plain": [
       "<Figure size 432x288 with 1 Axes>"
      ]
     },
     "metadata": {
      "needs_background": "light"
     },
     "output_type": "display_data"
    },
    {
     "data": {
      "image/png": "[encoded data removed]",
      "text/plain": [
       "<Figure size 432x288 with 1 Axes>"
      ]
     },
     "metadata": {
      "needs_background": "light"
     },
     "output_type": "display_data"
    },
    {
     "data": {
      "image/png": "[encoded data removed]",
      "text/plain": [
       "<Figure size 432x288 with 1 Axes>"
      ]
     },
     "metadata": {
      "needs_background": "light"
     },
     "output_type": "display_data"
    },
    {
     "data": {
      "image/png": "[encoded data removed]",
      "text/plain": [
       "<Figure size 432x288 with 1 Axes>"
      ]
     },
     "metadata": {
      "needs_background": "light"
     },
     "output_type": "display_data"
    },
    {
     "data": {
      "image/png": "[encoded data removed]",
      "text/plain": [
       "<Figure size 432x288 with 1 Axes>"
      ]
     },
     "metadata": {
      "needs_background": "light"
     },
     "output_type": "display_data"
    },
    {
     "data": {
      "image/png": "[encoded data removed]",
      "text/plain": [
       "<Figure size 432x288 with 1 Axes>"
      ]
     },
     "metadata": {
      "needs_background": "light"
     },
     "output_type": "display_data"
    },
    {
     "data": {
      "image/png": "[encoded data removed]",
      "text/plain": [
       "<Figure size 432x288 with 1 Axes>"
      ]
     },
     "metadata": {
      "needs_background": "light"
     },
     "output_type": "display_data"
    },
    {
     "data": {
      "image/png": "[encoded data removed]",
      "text/plain": [
       "<Figure size 432x288 with 1 Axes>"
      ]
     },
     "metadata": {
      "needs_background": "light"
     },
     "output_type": "display_data"
    },
    {
     "data": {
      "image/png": "[encoded data removed]",
      "text/plain": [
       "<Figure size 432x288 with 1 Axes>"
      ]
     },
     "metadata": {
      "needs_background": "light"
     },
     "output_type": "display_data"
    },
    {
     "data": {
      "image/png": "[encoded data removed]",
      "text/plain": [
       "<Figure size 432x288 with 1 Axes>"
      ]
     },
     "metadata": {
      "needs_background": "light"
     },
     "output_type": "display_data"
    },
    {
     "data": {
      "image/png": "[encoded data removed]",
      "text/plain": [
       "<Figure size 432x288 with 1 Axes>"
      ]
     },
     "metadata": {
      "needs_background": "light"
     },
     "output_type": "display_data"
    },
    {
     "data": {
      "image/png": "[encoded data removed]",
      "text/plain": [
       "<Figure size 432x288 with 1 Axes>"
      ]
     },
     "metadata": {
      "needs_background": "light"
     },
     "output_type": "display_data"
    }
   ],
   "source": [
    "for column in df.columns:\n",
    "    plt.figure(figsize=(6, 4))\n",
    "    sns.boxplot(data=df[column])\n",
    "    plt.title(f\"Boxplot {column}\")\n",
    "    plt.show()"
   ]
  },
  {
   "cell_type": "markdown",
   "id": "858babc0",
   "metadata": {},
   "source": [
    "## Remove extreme outliers for each variable"
   ]
  },
  {
   "cell_type": "code",
   "execution_count": 7,
   "id": "f65396be",
   "metadata": {},
   "outputs": [],
   "source": [
    "def remove_outliers(df):\n",
    "    columns = [\"y^+\",\"U\",\"dU/dy\",\"W\",\"u'u'\"]\n",
    "    for column in columns:\n",
    "        Q1 = df[column].quantile(0.25)\n",
    "        Q3 = df[column].quantile(0.75)\n",
    "        IQR = Q3 - Q1\n",
    "\n",
    "        lower_fence = Q1 - 3 * IQR\n",
    "        upper_fence = Q3 + 3 * IQR\n",
    "\n",
    "        df = df[(df[column] <= upper_fence) & (df[column] >= lower_fence)]\n",
    "    \n",
    "    return df\n",
    "\n",
    "df = remove_outliers(df)\n",
    "df.reset_index(drop=True, inplace=True)"
   ]
  },
  {
   "cell_type": "markdown",
   "id": "7bda70e3",
   "metadata": {},
   "source": [
    "https://www.scribbr.co.uk/stats/statistical-outliers/"
   ]
  },
  {
   "cell_type": "code",
   "execution_count": 8,
   "id": "7a95cd5f",
   "metadata": {
    "collapsed": true
   },
   "outputs": [
    {
     "name": "stdout",
     "output_type": "stream",
     "text": [
      "<class 'pandas.core.frame.DataFrame'>\n",
      "RangeIndex: 1467 entries, 0 to 1466\n",
      "Data columns (total 14 columns):\n",
      " #   Column   Non-Null Count  Dtype  \n",
      "---  ------   --------------  -----  \n",
      " 0   y/delta  1467 non-null   float64\n",
      " 1   y^+      1467 non-null   float64\n",
      " 2   U        1467 non-null   float64\n",
      " 3   dU/dy    1467 non-null   float64\n",
      " 4   W        1467 non-null   float64\n",
      " 5   P        1467 non-null   float64\n",
      " 6   Re_tau   1467 non-null   int64  \n",
      " 7   u'u'     1467 non-null   float64\n",
      " 8   v'v'     1467 non-null   float64\n",
      " 9   w'w'     1467 non-null   float64\n",
      " 10  u'v'     1467 non-null   float64\n",
      " 11  u'w'     1467 non-null   float64\n",
      " 12  v'w'     1467 non-null   float64\n",
      " 13  k        1467 non-null   float64\n",
      "dtypes: float64(13), int64(1)\n",
      "memory usage: 160.6 KB\n"
     ]
    },
    {
     "data": {
      "text/html": [
       "<div>\n",
       "<style scoped>\n",
       "    .dataframe tbody tr th:only-of-type {\n",
       "        vertical-align: middle;\n",
       "    }\n",
       "\n",
       "    .dataframe tbody tr th {\n",
       "        vertical-align: top;\n",
       "    }\n",
       "\n",
       "    .dataframe thead th {\n",
       "        text-align: right;\n",
       "    }\n",
       "</style>\n",
       "<table border=\"1\" class=\"dataframe\">\n",
       "  <thead>\n",
       "    <tr style=\"text-align: right;\">\n",
       "      <th></th>\n",
       "      <th>y/delta</th>\n",
       "      <th>y^+</th>\n",
       "      <th>U</th>\n",
       "      <th>dU/dy</th>\n",
       "      <th>W</th>\n",
       "      <th>P</th>\n",
       "      <th>Re_tau</th>\n",
       "      <th>u'u'</th>\n",
       "      <th>v'v'</th>\n",
       "      <th>w'w'</th>\n",
       "      <th>u'v'</th>\n",
       "      <th>u'w'</th>\n",
       "      <th>v'w'</th>\n",
       "      <th>k</th>\n",
       "    </tr>\n",
       "  </thead>\n",
       "  <tbody>\n",
       "    <tr>\n",
       "      <th>0</th>\n",
       "      <td>0.007194</td>\n",
       "      <td>37.306840</td>\n",
       "      <td>14.043179</td>\n",
       "      <td>0.073700</td>\n",
       "      <td>-0.002314</td>\n",
       "      <td>-0.959060</td>\n",
       "      <td>5200</td>\n",
       "      <td>7.103153</td>\n",
       "      <td>0.958211</td>\n",
       "      <td>2.716161</td>\n",
       "      <td>-0.918212</td>\n",
       "      <td>0.000269</td>\n",
       "      <td>0.000138</td>\n",
       "      <td>5.388763</td>\n",
       "    </tr>\n",
       "    <tr>\n",
       "      <th>1</th>\n",
       "      <td>0.007452</td>\n",
       "      <td>38.646476</td>\n",
       "      <td>14.139232</td>\n",
       "      <td>0.069773</td>\n",
       "      <td>-0.002330</td>\n",
       "      <td>-0.980840</td>\n",
       "      <td>5200</td>\n",
       "      <td>7.006583</td>\n",
       "      <td>0.979975</td>\n",
       "      <td>2.725204</td>\n",
       "      <td>-0.921877</td>\n",
       "      <td>0.000319</td>\n",
       "      <td>0.000138</td>\n",
       "      <td>5.355881</td>\n",
       "    </tr>\n",
       "    <tr>\n",
       "      <th>2</th>\n",
       "      <td>0.007714</td>\n",
       "      <td>40.006557</td>\n",
       "      <td>14.231651</td>\n",
       "      <td>0.066194</td>\n",
       "      <td>-0.002346</td>\n",
       "      <td>-1.001492</td>\n",
       "      <td>5200</td>\n",
       "      <td>6.914939</td>\n",
       "      <td>1.000611</td>\n",
       "      <td>2.732887</td>\n",
       "      <td>-0.925190</td>\n",
       "      <td>0.000367</td>\n",
       "      <td>0.000139</td>\n",
       "      <td>5.324218</td>\n",
       "    </tr>\n",
       "    <tr>\n",
       "      <th>3</th>\n",
       "      <td>0.007981</td>\n",
       "      <td>41.387079</td>\n",
       "      <td>14.320739</td>\n",
       "      <td>0.062927</td>\n",
       "      <td>-0.002360</td>\n",
       "      <td>-1.021039</td>\n",
       "      <td>5200</td>\n",
       "      <td>6.828173</td>\n",
       "      <td>1.020141</td>\n",
       "      <td>2.739304</td>\n",
       "      <td>-0.928188</td>\n",
       "      <td>0.000413</td>\n",
       "      <td>0.000139</td>\n",
       "      <td>5.293809</td>\n",
       "    </tr>\n",
       "    <tr>\n",
       "      <th>4</th>\n",
       "      <td>0.008251</td>\n",
       "      <td>42.788036</td>\n",
       "      <td>14.406768</td>\n",
       "      <td>0.059940</td>\n",
       "      <td>-0.002373</td>\n",
       "      <td>-1.039507</td>\n",
       "      <td>5200</td>\n",
       "      <td>6.746199</td>\n",
       "      <td>1.038594</td>\n",
       "      <td>2.744540</td>\n",
       "      <td>-0.930902</td>\n",
       "      <td>0.000457</td>\n",
       "      <td>0.000139</td>\n",
       "      <td>5.264666</td>\n",
       "    </tr>\n",
       "    <tr>\n",
       "      <th>...</th>\n",
       "      <td>...</td>\n",
       "      <td>...</td>\n",
       "      <td>...</td>\n",
       "      <td>...</td>\n",
       "      <td>...</td>\n",
       "      <td>...</td>\n",
       "      <td>...</td>\n",
       "      <td>...</td>\n",
       "      <td>...</td>\n",
       "      <td>...</td>\n",
       "      <td>...</td>\n",
       "      <td>...</td>\n",
       "      <td>...</td>\n",
       "      <td>...</td>\n",
       "    </tr>\n",
       "    <tr>\n",
       "      <th>1462</th>\n",
       "      <td>0.924453</td>\n",
       "      <td>168.332085</td>\n",
       "      <td>18.229457</td>\n",
       "      <td>0.005679</td>\n",
       "      <td>-0.006407</td>\n",
       "      <td>-0.384075</td>\n",
       "      <td>180</td>\n",
       "      <td>0.671048</td>\n",
       "      <td>0.384075</td>\n",
       "      <td>0.392351</td>\n",
       "      <td>-0.069921</td>\n",
       "      <td>0.001988</td>\n",
       "      <td>-0.000115</td>\n",
       "      <td>0.723737</td>\n",
       "    </tr>\n",
       "    <tr>\n",
       "      <th>1463</th>\n",
       "      <td>0.941219</td>\n",
       "      <td>171.385008</td>\n",
       "      <td>18.244917</td>\n",
       "      <td>0.004445</td>\n",
       "      <td>-0.006349</td>\n",
       "      <td>-0.381970</td>\n",
       "      <td>180</td>\n",
       "      <td>0.657393</td>\n",
       "      <td>0.381970</td>\n",
       "      <td>0.387362</td>\n",
       "      <td>-0.054352</td>\n",
       "      <td>0.001856</td>\n",
       "      <td>-0.000092</td>\n",
       "      <td>0.713362</td>\n",
       "    </tr>\n",
       "    <tr>\n",
       "      <th>1464</th>\n",
       "      <td>0.958002</td>\n",
       "      <td>174.440956</td>\n",
       "      <td>18.256587</td>\n",
       "      <td>0.003189</td>\n",
       "      <td>-0.006322</td>\n",
       "      <td>-0.380388</td>\n",
       "      <td>180</td>\n",
       "      <td>0.646995</td>\n",
       "      <td>0.380388</td>\n",
       "      <td>0.383672</td>\n",
       "      <td>-0.038806</td>\n",
       "      <td>0.001726</td>\n",
       "      <td>-0.000071</td>\n",
       "      <td>0.705528</td>\n",
       "    </tr>\n",
       "    <tr>\n",
       "      <th>1465</th>\n",
       "      <td>0.974796</td>\n",
       "      <td>177.499065</td>\n",
       "      <td>18.264396</td>\n",
       "      <td>0.001917</td>\n",
       "      <td>-0.006324</td>\n",
       "      <td>-0.379334</td>\n",
       "      <td>180</td>\n",
       "      <td>0.640001</td>\n",
       "      <td>0.379334</td>\n",
       "      <td>0.381248</td>\n",
       "      <td>-0.023276</td>\n",
       "      <td>0.001629</td>\n",
       "      <td>-0.000046</td>\n",
       "      <td>0.700291</td>\n",
       "    </tr>\n",
       "    <tr>\n",
       "      <th>1466</th>\n",
       "      <td>0.991598</td>\n",
       "      <td>180.558472</td>\n",
       "      <td>18.268308</td>\n",
       "      <td>0.000640</td>\n",
       "      <td>-0.006333</td>\n",
       "      <td>-0.378806</td>\n",
       "      <td>180</td>\n",
       "      <td>0.636500</td>\n",
       "      <td>0.378806</td>\n",
       "      <td>0.380044</td>\n",
       "      <td>-0.007757</td>\n",
       "      <td>0.001579</td>\n",
       "      <td>-0.000016</td>\n",
       "      <td>0.697675</td>\n",
       "    </tr>\n",
       "  </tbody>\n",
       "</table>\n",
       "<p>1467 rows × 14 columns</p>\n",
       "</div>"
      ],
      "text/plain": [
       "       y/delta         y^+          U     dU/dy         W         P  Re_tau  \\\n",
       "0     0.007194   37.306840  14.043179  0.073700 -0.002314 -0.959060    5200   \n",
       "1     0.007452   38.646476  14.139232  0.069773 -0.002330 -0.980840    5200   \n",
       "2     0.007714   40.006557  14.231651  0.066194 -0.002346 -1.001492    5200   \n",
       "3     0.007981   41.387079  14.320739  0.062927 -0.002360 -1.021039    5200   \n",
       "4     0.008251   42.788036  14.406768  0.059940 -0.002373 -1.039507    5200   \n",
       "...        ...         ...        ...       ...       ...       ...     ...   \n",
       "1462  0.924453  168.332085  18.229457  0.005679 -0.006407 -0.384075     180   \n",
       "1463  0.941219  171.385008  18.244917  0.004445 -0.006349 -0.381970     180   \n",
       "1464  0.958002  174.440956  18.256587  0.003189 -0.006322 -0.380388     180   \n",
       "1465  0.974796  177.499065  18.264396  0.001917 -0.006324 -0.379334     180   \n",
       "1466  0.991598  180.558472  18.268308  0.000640 -0.006333 -0.378806     180   \n",
       "\n",
       "          u'u'      v'v'      w'w'      u'v'      u'w'      v'w'         k  \n",
       "0     7.103153  0.958211  2.716161 -0.918212  0.000269  0.000138  5.388763  \n",
       "1     7.006583  0.979975  2.725204 -0.921877  0.000319  0.000138  5.355881  \n",
       "2     6.914939  1.000611  2.732887 -0.925190  0.000367  0.000139  5.324218  \n",
       "3     6.828173  1.020141  2.739304 -0.928188  0.000413  0.000139  5.293809  \n",
       "4     6.746199  1.038594  2.744540 -0.930902  0.000457  0.000139  5.264666  \n",
       "...        ...       ...       ...       ...       ...       ...       ...  \n",
       "1462  0.671048  0.384075  0.392351 -0.069921  0.001988 -0.000115  0.723737  \n",
       "1463  0.657393  0.381970  0.387362 -0.054352  0.001856 -0.000092  0.713362  \n",
       "1464  0.646995  0.380388  0.383672 -0.038806  0.001726 -0.000071  0.705528  \n",
       "1465  0.640001  0.379334  0.381248 -0.023276  0.001629 -0.000046  0.700291  \n",
       "1466  0.636500  0.378806  0.380044 -0.007757  0.001579 -0.000016  0.697675  \n",
       "\n",
       "[1467 rows x 14 columns]"
      ]
     },
     "execution_count": 8,
     "metadata": {},
     "output_type": "execute_result"
    }
   ],
   "source": [
    "df.info()\n",
    "df"
   ]
  },
  {
   "cell_type": "code",
   "execution_count": 9,
   "id": "304e5e7a",
   "metadata": {},
   "outputs": [],
   "source": [
    "df.to_csv(\"data_cleaned.csv\", index=False)"
   ]
  }
 ],
 "metadata": {
  "kernelspec": {
   "display_name": "Python 3 (ipykernel)",
   "language": "python",
   "name": "python3"
  },
  "language_info": {
   "codemirror_mode": {
    "name": "ipython",
    "version": 3
   },
   "file_extension": ".py",
   "mimetype": "text/x-python",
   "name": "python",
   "nbconvert_exporter": "python",
   "pygments_lexer": "ipython3",
   "version": "3.9.7"
  }
 },
 "nbformat": 4,
 "nbformat_minor": 5
}
