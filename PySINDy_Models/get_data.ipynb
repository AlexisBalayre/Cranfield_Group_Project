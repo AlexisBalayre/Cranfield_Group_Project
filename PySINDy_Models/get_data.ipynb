{
 "cells": [
  {
   "cell_type": "markdown",
   "metadata": {},
   "source": [
    "# This script retrieve the wanted datasets from online\n",
    "### Output : csv files for each parameter, combining all Tau"
   ]
  },
  {
   "cell_type": "markdown",
   "metadata": {},
   "source": [
    "- data here : https://turbulence.oden.utexas.edu/\n",
    "- adapt the following list with the wanted data"
   ]
  },
  {
   "cell_type": "markdown",
   "metadata": {},
   "source": [
    "#### Channel Flow"
   ]
  },
  {
   "cell_type": "code",
   "execution_count": 1,
   "metadata": {},
   "outputs": [],
   "source": [
    "parameters = [\"vel_fluc\",\"mean\",\"vp\"]\n",
    "Re_tau = ['5200', '2000', '1000', '0550', '0180']"
   ]
  },
  {
   "cell_type": "code",
   "execution_count": 2,
   "metadata": {},
   "outputs": [],
   "source": [
    "def parse_file(obj):\n",
    "    data = {}\n",
    "    lines = obj.split(\"\\n\")\n",
    "    for line in lines:\n",
    "        if line.startswith('%'):\n",
    "            if 'nx = ' in line:\n",
    "                data['nx'] = (line.split('=')[1].strip())\n",
    "            elif 'ny = ' in line:\n",
    "                data['ny'] = (line.split('=')[1].strip())\n",
    "            elif 'nz = ' in line:\n",
    "                data['nz'] = (line.split('=')[1].strip())\n",
    "            elif 'Lx = ' in line:\n",
    "                try:\n",
    "                    data['Lx'] = (line.split('=')[1].strip())\n",
    "                except ValueError:\n",
    "                    print(f\"Error parsing Lx: {line.split('=')[1].strip()}\")\n",
    "                    data['Lx'] = None\n",
    "            elif 'Lz = ' in line:\n",
    "                try:\n",
    "                    data['Lz'] = (line.split('=')[1].strip())\n",
    "                except ValueError:\n",
    "                    print(f\"Error parsing Lz: {line.split('=')[1].strip()}\")\n",
    "                    data['Lz'] = None\n",
    "            elif 'n = ' in line and \"U_mean\" not in line:\n",
    "                data['n'] = line.split('=')[1].strip()\n",
    "            elif 'nu = ' in line:\n",
    "                data['nu'] = line.split('=')[1].strip()\n",
    "            elif 'delta = ' in line and not \"y/\" in line:\n",
    "                data['delta'] = line.split('=')[1].strip() \n",
    "            elif 'U_mean = ' in line:\n",
    "                data['U_mean'] = line.split('=')[1].strip()\n",
    "            elif 'u_tau = ' in line:\n",
    "                data['u_tau'] = line.split('=')[1].strip()\n",
    "            elif 'Re_tau = ' in line and \",\" not in line:\n",
    "                data['Re_tau'] = line.split('=')[1].strip()\n",
    "\n",
    "    return data"
   ]
  },
  {
   "cell_type": "code",
   "execution_count": 3,
   "metadata": {},
   "outputs": [
    {
     "data": {
      "text/plain": [
       "'https://turbulence.oden.utexas.edu/channel2015/data/LM_Channel_5200_vel_fluc_prof.dat'"
      ]
     },
     "metadata": {},
     "output_type": "display_data"
    },
    {
     "data": {
      "text/plain": [
       "'https://turbulence.oden.utexas.edu/channel2015/data/LM_Channel_2000_vel_fluc_prof.dat'"
      ]
     },
     "metadata": {},
     "output_type": "display_data"
    },
    {
     "data": {
      "text/plain": [
       "'https://turbulence.oden.utexas.edu/channel2015/data/LM_Channel_1000_vel_fluc_prof.dat'"
      ]
     },
     "metadata": {},
     "output_type": "display_data"
    },
    {
     "data": {
      "text/plain": [
       "'https://turbulence.oden.utexas.edu/channel2015/data/LM_Channel_0550_vel_fluc_prof.dat'"
      ]
     },
     "metadata": {},
     "output_type": "display_data"
    },
    {
     "data": {
      "text/plain": [
       "'https://turbulence.oden.utexas.edu/channel2015/data/LM_Channel_0180_vel_fluc_prof.dat'"
      ]
     },
     "metadata": {},
     "output_type": "display_data"
    },
    {
     "name": "stdout",
     "output_type": "stream",
     "text": [
      "Combined data for parameter 'vel_fluc' and Re_tau=['5200', '2000', '1000', '0550', '0180'] saved to 'vel_fluc_combined_channel.csv'\n"
     ]
    },
    {
     "data": {
      "text/plain": [
       "None"
      ]
     },
     "metadata": {},
     "output_type": "display_data"
    },
    {
     "data": {
      "text/plain": [
       "'https://turbulence.oden.utexas.edu/channel2015/data/LM_Channel_5200_mean_prof.dat'"
      ]
     },
     "metadata": {},
     "output_type": "display_data"
    },
    {
     "data": {
      "text/plain": [
       "'https://turbulence.oden.utexas.edu/channel2015/data/LM_Channel_2000_mean_prof.dat'"
      ]
     },
     "metadata": {},
     "output_type": "display_data"
    },
    {
     "data": {
      "text/plain": [
       "'https://turbulence.oden.utexas.edu/channel2015/data/LM_Channel_1000_mean_prof.dat'"
      ]
     },
     "metadata": {},
     "output_type": "display_data"
    },
    {
     "data": {
      "text/plain": [
       "'https://turbulence.oden.utexas.edu/channel2015/data/LM_Channel_0550_mean_prof.dat'"
      ]
     },
     "metadata": {},
     "output_type": "display_data"
    },
    {
     "data": {
      "text/plain": [
       "'https://turbulence.oden.utexas.edu/channel2015/data/LM_Channel_0180_mean_prof.dat'"
      ]
     },
     "metadata": {},
     "output_type": "display_data"
    },
    {
     "name": "stdout",
     "output_type": "stream",
     "text": [
      "Combined data for parameter 'mean' and Re_tau=['5200', '2000', '1000', '0550', '0180'] saved to 'mean_combined_channel.csv'\n"
     ]
    },
    {
     "data": {
      "text/plain": [
       "None"
      ]
     },
     "metadata": {},
     "output_type": "display_data"
    },
    {
     "data": {
      "text/plain": [
       "'https://turbulence.oden.utexas.edu/channel2015/data/LM_Channel_5200_vp_prof.dat'"
      ]
     },
     "metadata": {},
     "output_type": "display_data"
    },
    {
     "data": {
      "text/plain": [
       "'https://turbulence.oden.utexas.edu/channel2015/data/LM_Channel_2000_vp_prof.dat'"
      ]
     },
     "metadata": {},
     "output_type": "display_data"
    },
    {
     "data": {
      "text/plain": [
       "'https://turbulence.oden.utexas.edu/channel2015/data/LM_Channel_1000_vp_prof.dat'"
      ]
     },
     "metadata": {},
     "output_type": "display_data"
    },
    {
     "data": {
      "text/plain": [
       "'https://turbulence.oden.utexas.edu/channel2015/data/LM_Channel_0550_vp_prof.dat'"
      ]
     },
     "metadata": {},
     "output_type": "display_data"
    },
    {
     "data": {
      "text/plain": [
       "'https://turbulence.oden.utexas.edu/channel2015/data/LM_Channel_0180_vp_prof.dat'"
      ]
     },
     "metadata": {},
     "output_type": "display_data"
    },
    {
     "name": "stdout",
     "output_type": "stream",
     "text": [
      "Combined data for parameter 'vp' and Re_tau=['5200', '2000', '1000', '0550', '0180'] saved to 'vp_combined_channel.csv'\n"
     ]
    },
    {
     "data": {
      "text/plain": [
       "None"
      ]
     },
     "metadata": {},
     "output_type": "display_data"
    }
   ],
   "source": [
    "import requests\n",
    "import io\n",
    "import pandas as pd\n",
    "import re\n",
    "\n",
    "\n",
    "def skip_header(content):\n",
    "    \"\"\"Find dynamiccly the number of lines to skip in the header of the file.\"\"\"\n",
    "    lines = content.split(\"\\n\")\n",
    "    lines_to_skip = 0\n",
    "    for line in lines:\n",
    "        if line.strip().startswith(\"%\"):\n",
    "            lines_to_skip += 1\n",
    "        else:\n",
    "            break\n",
    "    return lines_to_skip\n",
    "\n",
    "\n",
    "def get_header(content):\n",
    "    \"\"\"Get dynamiccly the header of the dataset.\"\"\"\n",
    "    lines = content.split(\"\\n\")\n",
    "    line = lines[skip_header(content) - 2]\n",
    "    header = re.split(r\"\\s+\", line.strip())[1:]\n",
    "    return header\n",
    "\n",
    "\n",
    "def download_and_combine_data(parameter, Re_tau):\n",
    "    frames = []  # List to store data frames for each Re_tau\n",
    "\n",
    "    for tau in Re_tau:\n",
    "        url = f\"https://turbulence.oden.utexas.edu/channel2015/data/LM_Channel_{tau}_{parameter}_prof.dat\"\n",
    "        display(url)\n",
    "        response = requests.get(url)\n",
    "\n",
    "        if response.status_code == 200:\n",
    "            file_content = response.text\n",
    "            file_like_object = io.StringIO(file_content)\n",
    "\n",
    "            data = parse_file(file_content)\n",
    "\n",
    "            df = pd.read_csv(\n",
    "                file_like_object,\n",
    "                sep=r\"\\s+\",\n",
    "                skiprows=skip_header(file_content),\n",
    "                names=get_header(file_content),\n",
    "            )\n",
    "\n",
    "            for key, value in data.items():\n",
    "                df[key] = value\n",
    "            \n",
    "            frames.append(df)\n",
    "        else:\n",
    "            print(\n",
    "                f\"Failed to download the file for Re_tau={tau}. Status code: {response.status_code}\"\n",
    "            )\n",
    "\n",
    "    # Concatenate all data frames\n",
    "    combined_df = pd.concat(frames, ignore_index=True)\n",
    "\n",
    "    # Save the combined data frame to a CSV file\n",
    "    combined_df.to_csv(f\"{parameter}_combined_channel.csv\", index=False)\n",
    "    print(\n",
    "        f\"Combined data for parameter '{parameter}' and Re_tau={Re_tau} saved to '{parameter}_combined_channel.csv'\"\n",
    "    )\n",
    "\n",
    "\n",
    "# Loop through each parameter and process\n",
    "for id, param in enumerate(parameters):\n",
    "    id = download_and_combine_data(param, Re_tau)\n",
    "    display(id)"
   ]
  },
  {
   "cell_type": "markdown",
   "metadata": {},
   "source": [
    "#### Couette Flow"
   ]
  },
  {
   "cell_type": "code",
   "execution_count": 4,
   "metadata": {},
   "outputs": [],
   "source": [
    "parameters = [\"vel_fluc\",\"mean\",\"vp\"]\n",
    "Re_tau = ['0093', '0220', '0500']\n",
    "Lx = ['100PI', '020PI']"
   ]
  },
  {
   "cell_type": "code",
   "execution_count": 5,
   "metadata": {},
   "outputs": [],
   "source": [
    "def download_and_combine_data_couette():\n",
    "    for parameter in parameters:\n",
    "        frames = []  # List to store data frames for each Re_tau\n",
    "        for lx in Lx:\n",
    "            for tau in Re_tau:\n",
    "                url = f\"https://turbulence.oden.utexas.edu/couette2018/data/LM_Couette_R{tau}_{lx}_{parameter}_prof.dat\"\n",
    "                display(url)\n",
    "                response = requests.get(url)\n",
    "\n",
    "                if response.status_code == 200:\n",
    "                    file_content = response.text\n",
    "                    file_like_object = io.StringIO(file_content)\n",
    "\n",
    "                    data = parse_file(file_content)\n",
    "\n",
    "                    df = pd.read_csv(\n",
    "                        file_like_object,\n",
    "                        sep=r\"\\s+\",\n",
    "                        skiprows=skip_header(file_content),\n",
    "                        names=get_header(file_content),\n",
    "                    )\n",
    "\n",
    "                    for key, value in data.items():\n",
    "                        df[key] = value\n",
    "                    \n",
    "                    frames.append(df)\n",
    "                else:\n",
    "                    print(\n",
    "                        f\"Failed to download the file for Re_tau={tau}. Status code: {response.status_code}\"\n",
    "                    )\n",
    "\n",
    "        # Concatenate all data frames\n",
    "        combined_df = pd.concat(frames, ignore_index=True)\n",
    "\n",
    "        # Save the combined data frame to a CSV file\n",
    "        combined_df.to_csv(f\"{parameter}_combined_couette.csv\", index=False)\n",
    "\n",
    "        display(f\"Saved combined data for parameter '{parameter}' to '{parameter}_combined_couette.csv'.\")"
   ]
  },
  {
   "cell_type": "code",
   "execution_count": 6,
   "metadata": {},
   "outputs": [
    {
     "data": {
      "text/plain": [
       "'https://turbulence.oden.utexas.edu/couette2018/data/LM_Couette_R0093_100PI_vel_fluc_prof.dat'"
      ]
     },
     "metadata": {},
     "output_type": "display_data"
    },
    {
     "data": {
      "text/plain": [
       "'https://turbulence.oden.utexas.edu/couette2018/data/LM_Couette_R0220_100PI_vel_fluc_prof.dat'"
      ]
     },
     "metadata": {},
     "output_type": "display_data"
    },
    {
     "data": {
      "text/plain": [
       "'https://turbulence.oden.utexas.edu/couette2018/data/LM_Couette_R0500_100PI_vel_fluc_prof.dat'"
      ]
     },
     "metadata": {},
     "output_type": "display_data"
    },
    {
     "data": {
      "text/plain": [
       "'https://turbulence.oden.utexas.edu/couette2018/data/LM_Couette_R0093_020PI_vel_fluc_prof.dat'"
      ]
     },
     "metadata": {},
     "output_type": "display_data"
    },
    {
     "data": {
      "text/plain": [
       "'https://turbulence.oden.utexas.edu/couette2018/data/LM_Couette_R0220_020PI_vel_fluc_prof.dat'"
      ]
     },
     "metadata": {},
     "output_type": "display_data"
    },
    {
     "data": {
      "text/plain": [
       "'https://turbulence.oden.utexas.edu/couette2018/data/LM_Couette_R0500_020PI_vel_fluc_prof.dat'"
      ]
     },
     "metadata": {},
     "output_type": "display_data"
    },
    {
     "data": {
      "text/plain": [
       "\"Saved combined data for parameter 'vel_fluc' to 'vel_fluc_combined_couette.csv'.\""
      ]
     },
     "metadata": {},
     "output_type": "display_data"
    },
    {
     "data": {
      "text/plain": [
       "'https://turbulence.oden.utexas.edu/couette2018/data/LM_Couette_R0093_100PI_mean_prof.dat'"
      ]
     },
     "metadata": {},
     "output_type": "display_data"
    },
    {
     "data": {
      "text/plain": [
       "'https://turbulence.oden.utexas.edu/couette2018/data/LM_Couette_R0220_100PI_mean_prof.dat'"
      ]
     },
     "metadata": {},
     "output_type": "display_data"
    },
    {
     "data": {
      "text/plain": [
       "'https://turbulence.oden.utexas.edu/couette2018/data/LM_Couette_R0500_100PI_mean_prof.dat'"
      ]
     },
     "metadata": {},
     "output_type": "display_data"
    },
    {
     "data": {
      "text/plain": [
       "'https://turbulence.oden.utexas.edu/couette2018/data/LM_Couette_R0093_020PI_mean_prof.dat'"
      ]
     },
     "metadata": {},
     "output_type": "display_data"
    },
    {
     "data": {
      "text/plain": [
       "'https://turbulence.oden.utexas.edu/couette2018/data/LM_Couette_R0220_020PI_mean_prof.dat'"
      ]
     },
     "metadata": {},
     "output_type": "display_data"
    },
    {
     "data": {
      "text/plain": [
       "'https://turbulence.oden.utexas.edu/couette2018/data/LM_Couette_R0500_020PI_mean_prof.dat'"
      ]
     },
     "metadata": {},
     "output_type": "display_data"
    },
    {
     "data": {
      "text/plain": [
       "\"Saved combined data for parameter 'mean' to 'mean_combined_couette.csv'.\""
      ]
     },
     "metadata": {},
     "output_type": "display_data"
    },
    {
     "data": {
      "text/plain": [
       "'https://turbulence.oden.utexas.edu/couette2018/data/LM_Couette_R0093_100PI_vp_prof.dat'"
      ]
     },
     "metadata": {},
     "output_type": "display_data"
    },
    {
     "data": {
      "text/plain": [
       "'https://turbulence.oden.utexas.edu/couette2018/data/LM_Couette_R0220_100PI_vp_prof.dat'"
      ]
     },
     "metadata": {},
     "output_type": "display_data"
    },
    {
     "data": {
      "text/plain": [
       "'https://turbulence.oden.utexas.edu/couette2018/data/LM_Couette_R0500_100PI_vp_prof.dat'"
      ]
     },
     "metadata": {},
     "output_type": "display_data"
    },
    {
     "data": {
      "text/plain": [
       "'https://turbulence.oden.utexas.edu/couette2018/data/LM_Couette_R0093_020PI_vp_prof.dat'"
      ]
     },
     "metadata": {},
     "output_type": "display_data"
    },
    {
     "data": {
      "text/plain": [
       "'https://turbulence.oden.utexas.edu/couette2018/data/LM_Couette_R0220_020PI_vp_prof.dat'"
      ]
     },
     "metadata": {},
     "output_type": "display_data"
    },
    {
     "data": {
      "text/plain": [
       "'https://turbulence.oden.utexas.edu/couette2018/data/LM_Couette_R0500_020PI_vp_prof.dat'"
      ]
     },
     "metadata": {},
     "output_type": "display_data"
    },
    {
     "data": {
      "text/plain": [
       "\"Saved combined data for parameter 'vp' to 'vp_combined_couette.csv'.\""
      ]
     },
     "metadata": {},
     "output_type": "display_data"
    }
   ],
   "source": [
    "download_and_combine_data_couette()"
   ]
  }
 ],
 "metadata": {
  "kernelspec": {
   "display_name": "Python 3 (ipykernel)",
   "language": "python",
   "name": "python3"
  },
  "language_info": {
   "codemirror_mode": {
    "name": "ipython",
    "version": 3
   },
   "file_extension": ".py",
   "mimetype": "text/x-python",
   "name": "python",
   "nbconvert_exporter": "python",
   "pygments_lexer": "ipython3",
   "version": "3.9.7"
  }
 },
 "nbformat": 4,
 "nbformat_minor": 2
}
