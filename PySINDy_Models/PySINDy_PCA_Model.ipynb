{
 "cells": [
  {
   "cell_type": "markdown",
   "id": "06872fa9",
   "metadata": {},
   "source": [
    "# Importing libraries"
   ]
  },
  {
   "cell_type": "code",
   "execution_count": 1,
   "id": "3cad4562",
   "metadata": {},
   "outputs": [],
   "source": [
    "import numpy as np\n",
    "import pysindy as ps\n",
    "import pandas as pd\n",
    "import matplotlib.pyplot as plt\n",
    "import seaborn as sns\n",
    "from sklearn.model_selection import train_test_split\n",
    "from sklearn.preprocessing import StandardScaler\n",
    "from sklearn.model_selection import TimeSeriesSplit \n",
    "from scipy.interpolate import interp1d\n",
    "from scipy.integrate import solve_ivp\n",
    "from sklearn.metrics import r2_score, mean_squared_error, mean_absolute_error"
   ]
  },
  {
   "cell_type": "markdown",
   "id": "21ac9fc1",
   "metadata": {},
   "source": [
    "# Data Processing"
   ]
  },
  {
   "cell_type": "code",
   "execution_count": 2,
   "id": "54d4107d",
   "metadata": {},
   "outputs": [
    {
     "data": {
      "text/html": [
       "<div>\n",
       "<style scoped>\n",
       "    .dataframe tbody tr th:only-of-type {\n",
       "        vertical-align: middle;\n",
       "    }\n",
       "\n",
       "    .dataframe tbody tr th {\n",
       "        vertical-align: top;\n",
       "    }\n",
       "\n",
       "    .dataframe thead th {\n",
       "        text-align: right;\n",
       "    }\n",
       "</style>\n",
       "<table border=\"1\" class=\"dataframe\">\n",
       "  <thead>\n",
       "    <tr style=\"text-align: right;\">\n",
       "      <th></th>\n",
       "      <th>y^+</th>\n",
       "      <th>U</th>\n",
       "      <th>Re_tau</th>\n",
       "      <th>PC1</th>\n",
       "      <th>PC2</th>\n",
       "      <th>P</th>\n",
       "      <th>dU/dy</th>\n",
       "    </tr>\n",
       "  </thead>\n",
       "  <tbody>\n",
       "    <tr>\n",
       "      <th>0</th>\n",
       "      <td>0.000000</td>\n",
       "      <td>0.000000</td>\n",
       "      <td>5185.897</td>\n",
       "      <td>-3.910347</td>\n",
       "      <td>0.657459</td>\n",
       "      <td>0.000000</td>\n",
       "      <td>1.000000</td>\n",
       "    </tr>\n",
       "    <tr>\n",
       "      <th>1</th>\n",
       "      <td>0.518124</td>\n",
       "      <td>0.518066</td>\n",
       "      <td>5185.897</td>\n",
       "      <td>-3.869397</td>\n",
       "      <td>0.684328</td>\n",
       "      <td>-0.000016</td>\n",
       "      <td>0.999702</td>\n",
       "    </tr>\n",
       "    <tr>\n",
       "      <th>2</th>\n",
       "      <td>1.036249</td>\n",
       "      <td>1.035755</td>\n",
       "      <td>5185.897</td>\n",
       "      <td>-3.761768</td>\n",
       "      <td>0.759708</td>\n",
       "      <td>-0.000173</td>\n",
       "      <td>0.998367</td>\n",
       "    </tr>\n",
       "    <tr>\n",
       "      <th>3</th>\n",
       "      <td>1.554373</td>\n",
       "      <td>1.552302</td>\n",
       "      <td>5185.897</td>\n",
       "      <td>-3.598314</td>\n",
       "      <td>0.880914</td>\n",
       "      <td>-0.000695</td>\n",
       "      <td>0.995003</td>\n",
       "    </tr>\n",
       "    <tr>\n",
       "      <th>4</th>\n",
       "      <td>2.072498</td>\n",
       "      <td>2.066162</td>\n",
       "      <td>5185.897</td>\n",
       "      <td>-3.382573</td>\n",
       "      <td>1.048359</td>\n",
       "      <td>-0.001888</td>\n",
       "      <td>0.988395</td>\n",
       "    </tr>\n",
       "    <tr>\n",
       "      <th>...</th>\n",
       "      <td>...</td>\n",
       "      <td>...</td>\n",
       "      <td>...</td>\n",
       "      <td>...</td>\n",
       "      <td>...</td>\n",
       "      <td>...</td>\n",
       "      <td>...</td>\n",
       "    </tr>\n",
       "    <tr>\n",
       "      <th>49995</th>\n",
       "      <td>180.486137</td>\n",
       "      <td>18.268216</td>\n",
       "      <td>182.088</td>\n",
       "      <td>-2.641824</td>\n",
       "      <td>0.042917</td>\n",
       "      <td>-0.378819</td>\n",
       "      <td>0.000670</td>\n",
       "    </tr>\n",
       "    <tr>\n",
       "      <th>49996</th>\n",
       "      <td>180.504194</td>\n",
       "      <td>18.268239</td>\n",
       "      <td>182.088</td>\n",
       "      <td>-2.642025</td>\n",
       "      <td>0.042928</td>\n",
       "      <td>-0.378816</td>\n",
       "      <td>0.000662</td>\n",
       "    </tr>\n",
       "    <tr>\n",
       "      <th>49997</th>\n",
       "      <td>180.522252</td>\n",
       "      <td>18.268262</td>\n",
       "      <td>182.088</td>\n",
       "      <td>-2.642226</td>\n",
       "      <td>0.042939</td>\n",
       "      <td>-0.378813</td>\n",
       "      <td>0.000655</td>\n",
       "    </tr>\n",
       "    <tr>\n",
       "      <th>49998</th>\n",
       "      <td>180.540310</td>\n",
       "      <td>18.268285</td>\n",
       "      <td>182.088</td>\n",
       "      <td>-2.642427</td>\n",
       "      <td>0.042949</td>\n",
       "      <td>-0.378809</td>\n",
       "      <td>0.000647</td>\n",
       "    </tr>\n",
       "    <tr>\n",
       "      <th>49999</th>\n",
       "      <td>180.558367</td>\n",
       "      <td>18.268308</td>\n",
       "      <td>182.088</td>\n",
       "      <td>-2.642627</td>\n",
       "      <td>0.042960</td>\n",
       "      <td>-0.378806</td>\n",
       "      <td>0.000640</td>\n",
       "    </tr>\n",
       "  </tbody>\n",
       "</table>\n",
       "<p>50000 rows × 7 columns</p>\n",
       "</div>"
      ],
      "text/plain": [
       "              y^+          U    Re_tau       PC1       PC2         P     dU/dy\n",
       "0        0.000000   0.000000  5185.897 -3.910347  0.657459  0.000000  1.000000\n",
       "1        0.518124   0.518066  5185.897 -3.869397  0.684328 -0.000016  0.999702\n",
       "2        1.036249   1.035755  5185.897 -3.761768  0.759708 -0.000173  0.998367\n",
       "3        1.554373   1.552302  5185.897 -3.598314  0.880914 -0.000695  0.995003\n",
       "4        2.072498   2.066162  5185.897 -3.382573  1.048359 -0.001888  0.988395\n",
       "...           ...        ...       ...       ...       ...       ...       ...\n",
       "49995  180.486137  18.268216   182.088 -2.641824  0.042917 -0.378819  0.000670\n",
       "49996  180.504194  18.268239   182.088 -2.642025  0.042928 -0.378816  0.000662\n",
       "49997  180.522252  18.268262   182.088 -2.642226  0.042939 -0.378813  0.000655\n",
       "49998  180.540310  18.268285   182.088 -2.642427  0.042949 -0.378809  0.000647\n",
       "49999  180.558367  18.268308   182.088 -2.642627  0.042960 -0.378806  0.000640\n",
       "\n",
       "[50000 rows x 7 columns]"
      ]
     },
     "execution_count": 2,
     "metadata": {},
     "output_type": "execute_result"
    }
   ],
   "source": [
    "df = pd.read_csv(\"DNS_Data_PCA_PySINDy.csv\")\n",
    "# Select the specific DataFrame columns needed for PySINDy or PINNs\n",
    "df = df[[\"y^+\",\"U\",\"Re_tau\",\"PC1\",\"PC2\",\"P\",\"dU/dy\"]]\n",
    "Reynolds_Number = df[\"Re_tau\"].unique() # Obtain the different Reynolds numbers\n",
    "df"
   ]
  },
  {
   "cell_type": "code",
   "execution_count": 3,
   "id": "e66e4df1",
   "metadata": {},
   "outputs": [
    {
     "name": "stdout",
     "output_type": "stream",
     "text": [
      "             y^+         U    Re_tau           PC1           PC2         P  \\\n",
      "y^+     1.000000  0.738984  0.776980 -3.203259e-01 -1.954858e-01  0.142508   \n",
      "U       0.738984  1.000000  0.621793 -2.816455e-01 -5.919237e-01 -0.083107   \n",
      "Re_tau  0.776980  0.621793  1.000000  1.725137e-01 -2.145719e-01 -0.309404   \n",
      "PC1    -0.320326 -0.281646  0.172514  1.000000e+00 -1.541994e-16 -0.875527   \n",
      "PC2    -0.195486 -0.591924 -0.214572 -1.541994e-16  1.000000e+00  0.474235   \n",
      "P       0.142508 -0.083107 -0.309404 -8.755273e-01  4.742352e-01  1.000000   \n",
      "dU/dy  -0.202809 -0.694136 -0.183606 -6.567313e-02  6.822578e-01  0.391585   \n",
      "\n",
      "           dU/dy  \n",
      "y^+    -0.202809  \n",
      "U      -0.694136  \n",
      "Re_tau -0.183606  \n",
      "PC1    -0.065673  \n",
      "PC2     0.682258  \n",
      "P       0.391585  \n",
      "dU/dy   1.000000  \n"
     ]
    },
    {
     "data": {
      "image/png": "[encoded data removed]",
      "text/plain": [
       "<Figure size 1080x864 with 2 Axes>"
      ]
     },
     "metadata": {
      "needs_background": "light"
     },
     "output_type": "display_data"
    }
   ],
   "source": [
    "# Calculate the correlation matrix for the DataFrame and display it in the form of a heatmap\n",
    "corr = df.corr()\n",
    "print(corr)\n",
    "plt.figure(figsize=(15,12))\n",
    "sns.heatmap(corr, annot=True, cmap=\"coolwarm\")\n",
    "plt.title(\"Correlation heatmap\")\n",
    "plt.show()"
   ]
  },
  {
   "cell_type": "code",
   "execution_count": 4,
   "id": "077b15ba",
   "metadata": {},
   "outputs": [],
   "source": [
    "def first_derivative(columns,df):\n",
    "    \"\"\"\n",
    "    Compute the first derivative of the specified columns.\n",
    "    \n",
    "    Args:\n",
    "        columns (list): List of column names in the dataframe for which the first derivative is to be calculated\n",
    "        df (pd.DataFrame): The dataframe containing the DNS data\n",
    "       \n",
    "    Returns:\n",
    "        pd.DataFrame: The input dataframe with the additional columns representing the first derivative \n",
    "        of the columns present in the list (columns)\n",
    "    \"\"\"\n",
    "    for col in columns:  \n",
    "        # Extract the data from a column and y^+ into numpy arrays\n",
    "        x = df[col].to_numpy()\n",
    "        y = df[\"y^+\"].to_numpy()\n",
    "        \n",
    "        # Calculate the first derivative of the column with respect to y^+\n",
    "        dx = np.gradient(x,y)\n",
    "        \n",
    "        # Store the result of the first derivative of the column in the dataframe\n",
    "        df[\"d\" + col + \"/dy\"] = dx\n",
    "        \n",
    "    return df\n",
    "\n",
    "def second_derivative(columns,df):\n",
    "    \"\"\"\n",
    "    Compute the second derivative of the specified columns.\n",
    "    \n",
    "    Args:\n",
    "        columns (list): List of column names in the dataframe for which the second derivative is to be calculated\n",
    "        df (pd.DataFrame): The dataframe containing the DNS data\n",
    "       \n",
    "    Returns:\n",
    "        pd.DataFrame: The input dataframe with the additional columns representing the second derivative \n",
    "        of the columns present in the list (columns)\n",
    "    \"\"\"\n",
    "    for col in columns: \n",
    "        # Extract the data from a column and y^+ into numpy arrays\n",
    "        x = df[col].to_numpy()\n",
    "        y = df[\"y^+\"].to_numpy()\n",
    "        \n",
    "        # Calculate the first derivative of the column with respect to y^+\n",
    "        dx = np.gradient(x,y)\n",
    "        \n",
    "        # Store the result of the first derivative of the column in the dataframe\n",
    "        df[\"d(\" + col + \")/dy\"] = dx\n",
    "        \n",
    "    return df\n",
    "\n",
    "def data_PCA_processing(df, Reynolds_Number):\n",
    "    \"\"\"\n",
    "    Process the dataframe to have the first and second derivative.\n",
    "    \n",
    "    Args:\n",
    "        df (pd.DataFrame): The dataframe containing the DNS data\n",
    "        Reynolds_Numbers (list): The list of Reynolds numbers\n",
    "    \n",
    "    Returns:\n",
    "        dict: The processed data\n",
    "    \"\"\"\n",
    "    \n",
    "    # Dictionary containing dataframes associated with a specific number of reynolds\n",
    "    data = {f'df_{Re}': df[df[\"Re_tau\"] == Re] for Re in Reynolds_Number}\n",
    "    \n",
    "    # Calculate the first and second derivatives of the specified columns for each dataframe in the dictionary\n",
    "    for Re in Reynolds_Number:\n",
    "        \n",
    "        columns_to_derive = [\"PC1\",\"PC2\",\"P\"]\n",
    "        data[f\"df_{Re}\"] = first_derivative(columns_to_derive,data[f\"df_{Re}\"])\n",
    "        \n",
    "        columns_to_derive = [\"dU/dy\",\"dPC1/dy\", \"dPC2/dy\",\"dP/dy\"]\n",
    "        data[f\"df_{Re}\"] = second_derivative(columns_to_derive,data[f\"df_{Re}\"])\n",
    "        \n",
    "    return data"
   ]
  },
  {
   "cell_type": "code",
   "execution_count": 5,
   "id": "878cf9b1",
   "metadata": {},
   "outputs": [
    {
     "name": "stderr",
     "output_type": "stream",
     "text": [
      "C:\\Users\\moi\\AppData\\Local\\Temp/ipykernel_201864/2551907546.py:22: SettingWithCopyWarning: \n",
      "A value is trying to be set on a copy of a slice from a DataFrame.\n",
      "Try using .loc[row_indexer,col_indexer] = value instead\n",
      "\n",
      "See the caveats in the documentation: https://pandas.pydata.org/pandas-docs/stable/user_guide/indexing.html#returning-a-view-versus-a-copy\n",
      "  df[\"d\" + col + \"/dy\"] = dx\n",
      "C:\\Users\\moi\\AppData\\Local\\Temp/ipykernel_201864/2551907546.py:47: SettingWithCopyWarning: \n",
      "A value is trying to be set on a copy of a slice from a DataFrame.\n",
      "Try using .loc[row_indexer,col_indexer] = value instead\n",
      "\n",
      "See the caveats in the documentation: https://pandas.pydata.org/pandas-docs/stable/user_guide/indexing.html#returning-a-view-versus-a-copy\n",
      "  df[\"d(\" + col + \")/dy\"] = dx\n"
     ]
    }
   ],
   "source": [
    "data = data_PCA_processing(df,Reynolds_Number)"
   ]
  },
  {
   "cell_type": "code",
   "execution_count": 6,
   "id": "bc1e5402",
   "metadata": {},
   "outputs": [],
   "source": [
    "def data_PCA_PySINDy(data,Reynolds_Number):\n",
    "    \"\"\"\n",
    "    Prepare the data for PySINDy\n",
    "   \n",
    "    Args:\n",
    "        data (dict): The processed data\n",
    "        Reynolds_Numbers (list): The list of Reynolds numbers\n",
    "    \n",
    "    Returns:\n",
    "        list: The input data (containing the feature variables)\n",
    "        list: The output data (containing the target variables)\n",
    "    \"\"\"\n",
    "    # Initialise the lists containing the feature variables (X) and target variables (y) for each Reynolds number\n",
    "    X = [[] for _ in range(len(Reynolds_Number))]\n",
    "    y = [[] for _ in range(len(Reynolds_Number))]\n",
    "    \n",
    "    for i in range(0,len(Reynolds_Number)):\n",
    "        # Extract the feature variables \n",
    "        X[i] = data[f\"df_{Reynolds_Number[i]}\"].drop(columns=[\"y^+\",\"Re_tau\",\"d(dU/dy)/dy\",\"d(dPC1/dy)/dy\", \"d(dPC2/dy)/dy\",\"d(dP/dy)/dy\"]).values\n",
    "        \n",
    "        # Extract the target variables \n",
    "        y[i] = data[f\"df_{Reynolds_Number[i]}\"][[\"dU/dy\", \"dPC1/dy\", \"dPC2/dy\",\"dP/dy\",\"d(dU/dy)/dy\",\"d(dPC1/dy)/dy\", \"d(dPC2/dy)/dy\",\"d(dP/dy)/dy\"]].values\n",
    "    \n",
    "    return X,y"
   ]
  },
  {
   "cell_type": "code",
   "execution_count": 7,
   "id": "ed465589",
   "metadata": {},
   "outputs": [],
   "source": [
    "X,y = data_PCA_PySINDy(data,Reynolds_Number)"
   ]
  },
  {
   "cell_type": "markdown",
   "id": "5ad2862e",
   "metadata": {},
   "source": [
    "# PySINDy Model"
   ]
  },
  {
   "cell_type": "code",
   "execution_count": 8,
   "id": "228021f0",
   "metadata": {},
   "outputs": [],
   "source": [
    "# Select the DNS data of the Reynolds Number 5200 for the training data and the DNS data of the Reynolds Number 2000 for the test data\n",
    "X_train = X[0]\n",
    "y_train = y[0]\n",
    "X_test = X[1]\n",
    "y_test = y[1]"
   ]
  },
  {
   "cell_type": "markdown",
   "id": "2857eff8",
   "metadata": {},
   "source": [
    "### Training of the PySINDy Model"
   ]
  },
  {
   "cell_type": "code",
   "execution_count": 9,
   "id": "880bae7a",
   "metadata": {},
   "outputs": [
    {
     "name": "stdout",
     "output_type": "stream",
     "text": [
      "\n",
      "*********************************\n",
      "Reynolds Number = 5185.897\n",
      "PysINDy Model:\n",
      "(U)' = 1.000 dU/dy\n",
      "(PC1)' = 1.000 dPC1/dy\n",
      "(PC2)' = 1.000 dPC2/dy\n",
      "(P)' = 1.000 dP/dy\n",
      "(dU/dy)' = 0.022 dU/dy + -0.233 dPC1/dy + 0.141 dPC2/dy + -0.611 dP/dy\n",
      "(dPC1/dy)' = -0.012 1 + -0.002 PC1 + -0.003 PC2 + -0.014 P + 0.266 dU/dy + -0.622 dPC1/dy + 0.351 dPC2/dy + -1.933 dP/dy\n",
      "(dPC2/dy)' = -0.010 1 + -0.002 PC1 + -0.004 PC2 + -0.011 P + 0.242 dU/dy + -0.647 dPC1/dy + 0.349 dPC2/dy + -2.433 dP/dy\n",
      "(dP/dy)' = -0.012 dPC1/dy + 0.005 dPC2/dy + -0.084 dP/dy\n"
     ]
    }
   ],
   "source": [
    "# Define the names of the elements that are going to be used in the model\n",
    "feature_names = [\"U\",\"PC1\", \"PC2\",\"P\",\"dU/dy\", \"dPC1/dy\", \"dPC2/dy\",\"dP/dy\"]\n",
    "\n",
    "# Set the feature_library parameter\n",
    "feature_library = ps.PolynomialLibrary(1)\n",
    "\n",
    "print(\"\\n*********************************\")\n",
    "print(f\"Reynolds Number = {Reynolds_Number[0]}\")\n",
    "print(\"PysINDy Model:\")\n",
    "\n",
    "# Define the STLSQ optimizer and its parameters\n",
    "optimizer = ps.STLSQ(threshold=0.001,alpha=0.0001)\n",
    "\n",
    "# Create the SYNDy model with the specified parameters \n",
    "model = ps.SINDy(feature_library=feature_library,optimizer=optimizer,feature_names=feature_names)\n",
    "\n",
    "# Fit the model on the training data\n",
    "model.fit(X_train,x_dot = y_train)\n",
    "\n",
    "# Display the equations of the PySINDY model\n",
    "model.print()"
   ]
  },
  {
   "cell_type": "markdown",
   "id": "baff7843",
   "metadata": {},
   "source": [
    "### Evaluation of the PySINDy Model"
   ]
  },
  {
   "cell_type": "code",
   "execution_count": 10,
   "id": "5dedf42c",
   "metadata": {},
   "outputs": [
    {
     "name": "stdout",
     "output_type": "stream",
     "text": [
      "R-square: 0.8876720412130256\n",
      "MSE: 4.472204113957067e-06\n"
     ]
    }
   ],
   "source": [
    "# Use the model to predict values based on the test features\n",
    "y_pred = model.predict(X_test)\n",
    "y_true = y_test\n",
    "\n",
    "# Compute the R-squared value\n",
    "r2 = r2_score(y_true, y_pred)\n",
    "print(f\"R-square: {r2}\")\n",
    "\n",
    "# Compute the MSE value\n",
    "mse = mean_squared_error(y_true, y_pred)\n",
    "print(f\"MSE: {mse}\")"
   ]
  },
  {
   "cell_type": "code",
   "execution_count": 11,
   "id": "ee53363d",
   "metadata": {},
   "outputs": [],
   "source": [
    "def test_overfitting(X_train,y_train,X_test,y_test,model):\n",
    "    \"\"\"\n",
    "    Test if the model is overfitting.\n",
    "    \n",
    "    Args:\n",
    "        X_train (list): The input training data\n",
    "        y_train (list): The output training data\n",
    "        X_test (list): The input testing data\n",
    "        y_test (list): The output testing data\n",
    "        model (dict): The PySINDy model\n",
    "\n",
    "    Returns:\n",
    "        None\n",
    "    \"\"\"\n",
    "    \n",
    "    # Use the model to predict values based on the train features\n",
    "    y_train_pred =  model.predict(X_train)\n",
    "    # Compute the train MSE value\n",
    "    mse_train = mean_squared_error(y_train, y_train_pred)\n",
    "    \n",
    "    # Use the model to predict values based on the train features\n",
    "    y_test_pred =  model.predict(X_test)\n",
    "    # Compute the test MSE value\n",
    "    mse_test = mean_squared_error(y_test, y_test_pred)\n",
    "    \n",
    "    print(f\"MSE Training: {mse_train}\")\n",
    "    print(f\"MSE Test: {mse_test}\")\n",
    "    \n",
    "    # Check that there is no overfitting by comparing the training and test MSEs\n",
    "    if abs(mse_train - mse_test) > 0.001:\n",
    "        print(\"PySINDy Model - Overfitting!\")\n",
    "    else:\n",
    "         print(\"PySINDy Model - No Overfitting!\")"
   ]
  },
  {
   "cell_type": "code",
   "execution_count": 12,
   "id": "e754aa27",
   "metadata": {},
   "outputs": [
    {
     "name": "stdout",
     "output_type": "stream",
     "text": [
      "MSE Training: 1.0794386229297175e-06\n",
      "MSE Test: 4.472204113957067e-06\n",
      "PySINDy Model - No Overfitting!\n"
     ]
    }
   ],
   "source": [
    "test_overfitting(X_train,y_train,X_test,y_test,model)"
   ]
  },
  {
   "cell_type": "markdown",
   "id": "8777bee3",
   "metadata": {},
   "source": [
    "### PySINDy Simulation"
   ]
  },
  {
   "cell_type": "code",
   "execution_count": 13,
   "id": "00b79a23",
   "metadata": {},
   "outputs": [],
   "source": [
    "def integrate(y_plus, y, coeffs):    \n",
    "    \"\"\"\n",
    "    Computes the derivatives at a point for integration.\n",
    "\n",
    "    Args:\n",
    "        y_plus (float): The spatial variable for the integration\n",
    "        y (array): Current state variables\n",
    "        coeffs (array): Coefficients of the trained PySINDy Model\n",
    "\n",
    "    Returns:\n",
    "        list: Derivatives of the state variables and their second derivatives\n",
    "    \"\"\"\n",
    "    \n",
    "    # Initialise a variable to store the derivatives\n",
    "    derivatives = []\n",
    "    \n",
    "    # Calculate the derivative for each state variable using the coefficients of the trained PySINDy Model\n",
    "    for i in range(len(y)):\n",
    "        dd = coeffs[i][0] + np.dot(coeffs[i][1:], y) \n",
    "        derivatives.append(dd)\n",
    "    \n",
    "    return derivatives\n",
    "\n",
    "\n",
    "def simulation(X, df, model):\n",
    "    \"\"\"\n",
    "    Simulate the PySINDy model using numerical integration.\n",
    "    \n",
    "    Args:\n",
    "        X (list): The input data\n",
    "        df (pd.DataFrame): The dataframe containing the DNS data\n",
    "        model (object): The trained PySINDy Model\n",
    "        \n",
    "    Returns:\n",
    "        OdeResult: The result of the simulation\n",
    "    \"\"\"\n",
    "    \n",
    "    # Extract the initial conditions \n",
    "    initial_conditions = X[0]\n",
    "    \n",
    "    # Extract the coefficients of the PySINDy Model\n",
    "    coeffs = model.optimizer.coef_\n",
    "    \n",
    "    # Extract the y^+ values of the dataframe\n",
    "    y_plus_points = df[\"y^+\"].values\n",
    "    \n",
    "    # Run the integration over the range of y^+ points\n",
    "    solution = solve_ivp(\n",
    "        fun=integrate, \n",
    "        t_span=(y_plus_points.min(), y_plus_points.max()), \n",
    "        y0=initial_conditions, \n",
    "        args=(coeffs,), \n",
    "        t_eval=y_plus_points,  \n",
    "        method='RK45',\n",
    "        dense_output = True\n",
    "    )\n",
    "    \n",
    "    return solution"
   ]
  },
  {
   "cell_type": "code",
   "execution_count": 14,
   "id": "0a47d617",
   "metadata": {},
   "outputs": [],
   "source": [
    "#Simulate the PySINDy model for DNS data associated with the Reynolds number 2000\n",
    "solution = simulation(X_test, data[\"df_1994.756\"], model)"
   ]
  },
  {
   "cell_type": "code",
   "execution_count": 15,
   "id": "a7085341",
   "metadata": {},
   "outputs": [],
   "source": [
    "def simulation_PCA_plot(df, solution):\n",
    "    \"\"\"\n",
    "    Plot the simulation\n",
    "    \n",
    "    Args:\n",
    "        df (pd.DataFrame): The dataframe containing the DNS data\n",
    "        solution (scipy.integrate._ivp.ivp.OdeSolution): The solutions of the PySINDy Simulation\n",
    "\n",
    "    Returns:\n",
    "        None\n",
    "    \"\"\"\n",
    "    col = [\"U\",\"PC1\",\"PC2\"]\n",
    "    \n",
    "    for i in range(3):\n",
    "        \n",
    "        plt.figure(figsize=(12, 6))\n",
    "        \n",
    "        # Extract the y^+ values of the dataframe\n",
    "        y = df['y^+'].values\n",
    "        \n",
    "        subset_pred = solution.y[i]\n",
    "        subset_target = df[col[i]]\n",
    "        \n",
    "        # Plot predictions and DNS data\n",
    "        plt.plot(solution.t, subset_pred,color=\"blue\",linestyle=\"-\",label = f\"{col[i]} (PySINDy_PCA)\")\n",
    "        plt.plot(y, subset_target.values, color=\"red\",linestyle=\"--\",label=f\"{col[i]} (DNS)\")\n",
    "        \n",
    "        plt.xscale('log')\n",
    "        plt.xlim(left=0.1, right = 10000)\n",
    "        plt.xlabel('y^+')\n",
    "        \n",
    "        plt.ylabel(col[i])\n",
    "        plt.title(f\"{col[i]} Prediction vs. DNS\")\n",
    "        \n",
    "        plt.legend()\n",
    "        plt.plot()"
   ]
  },
  {
   "cell_type": "code",
   "execution_count": 16,
   "id": "46b3a2f5",
   "metadata": {
    "scrolled": false
   },
   "outputs": [
    {
     "data": {
      "image/png": "[encoded data removed]",
      "text/plain": [
       "<Figure size 864x432 with 1 Axes>"
      ]
     },
     "metadata": {
      "needs_background": "light"
     },
     "output_type": "display_data"
    },
    {
     "data": {
      "image/png": "[encoded data removed]",
      "text/plain": [
       "<Figure size 864x432 with 1 Axes>"
      ]
     },
     "metadata": {
      "needs_background": "light"
     },
     "output_type": "display_data"
    },
    {
     "data": {
      "image/png": "[encoded data removed]",
      "text/plain": [
       "<Figure size 864x432 with 1 Axes>"
      ]
     },
     "metadata": {
      "needs_background": "light"
     },
     "output_type": "display_data"
    }
   ],
   "source": [
    "simulation_PCA_plot(data[\"df_1994.756\"], solution)"
   ]
  },
  {
   "cell_type": "code",
   "execution_count": 17,
   "id": "12b31b1f",
   "metadata": {},
   "outputs": [
    {
     "name": "stdout",
     "output_type": "stream",
     "text": [
      "MAE: 8.689249703950258\n"
     ]
    }
   ],
   "source": [
    "# Create a dataframe from the simulation results\n",
    "df_sim_PCA = pd.DataFrame({\"y^+\":solution.t,'U': solution.y[0], \"PC1\": solution.y[1], \"PC2\": solution.y[2]})\n",
    "df_pred = data[\"df_1994.756\"][data[\"df_1994.756\"]['y^+'].isin(solution.t)]\n",
    "# Compute the MAE between simulation results and DNS data \n",
    "mae_sim_PCA = mean_absolute_error( df_pred[[\"U\",\"PC1\",\"PC2\"]].values,df_sim_PCA[[\"U\",\"PC1\",\"PC2\"]].values)\n",
    "print(f\"MAE: {mae_sim_PCA}\")"
   ]
  },
  {
   "cell_type": "code",
   "execution_count": 18,
   "id": "cba63836",
   "metadata": {},
   "outputs": [],
   "source": [
    "df_sim_PCA.to_csv(\"prediction_output_pysindy_pca.csv\",index=False)"
   ]
  }
 ],
 "metadata": {
  "kernelspec": {
   "display_name": "Python 3 (ipykernel)",
   "language": "python",
   "name": "python3"
  },
  "language_info": {
   "codemirror_mode": {
    "name": "ipython",
    "version": 3
   },
   "file_extension": ".py",
   "mimetype": "text/x-python",
   "name": "python",
   "nbconvert_exporter": "python",
   "pygments_lexer": "ipython3",
   "version": "3.9.7"
  }
 },
 "nbformat": 4,
 "nbformat_minor": 5
}
